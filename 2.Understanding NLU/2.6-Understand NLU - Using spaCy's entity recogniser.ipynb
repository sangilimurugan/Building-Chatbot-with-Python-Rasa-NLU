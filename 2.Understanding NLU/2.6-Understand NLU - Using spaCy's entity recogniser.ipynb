{
 "cells": [
  {
   "cell_type": "code",
   "execution_count": 3,
   "metadata": {},
   "outputs": [
    {
     "name": "stdout",
     "output_type": "stream",
     "text": [
      "300\n"
     ]
    }
   ],
   "source": [
    "import spacy\n",
    "import numpy as np\n",
    "\n",
    "# Load the spacy model: nlp\n",
    "nlp = spacy.load('en_core_web_md')\n",
    "print nlp.vocab.vectors_length"
   ]
  },
  {
   "cell_type": "code",
   "execution_count": 6,
   "metadata": {},
   "outputs": [
    {
     "name": "stdout",
     "output_type": "stream",
     "text": [
      "friends called Mary who have worked at Google since 2010\n",
      "(u'PERSON', '>>>', u'Mary')\n",
      "(u'ORG', '>>>', u'Google')\n",
      "(u'DATE', '>>>', u'2010')\n",
      "{'DATE': u'2010', 'ORG': u'Google', 'PERSON': u'Mary'}\n",
      "people who graduated from MIT in 1999\n",
      "(u'ORG', '>>>', u'MIT')\n",
      "(u'DATE', '>>>', u'1999')\n",
      "{'DATE': u'1999', 'ORG': u'MIT', 'PERSON': None}\n"
     ]
    }
   ],
   "source": [
    "\n",
    "# Define included entities\n",
    "include_entities = ['DATE', 'ORG', 'PERSON']\n",
    "\n",
    "# Define extract_entities()\n",
    "def extract_entities(message):\n",
    "    # Create a dict to hold the entities\n",
    "    ents = dict.fromkeys(include_entities)\n",
    "    message = unicode(message, \"utf-8\")\n",
    "    # Create a spacy document\n",
    "    doc = nlp(message)\n",
    "    print(message)\n",
    "    for ent in doc.ents:\n",
    "        print(ent.label_, '>>>', ent.text)\n",
    "        if ent.label_ in include_entities:\n",
    "            # Save interesting entities\n",
    "            ents[ent.label_] = ent.text\n",
    "    return ents\n",
    "\n",
    "print(extract_entities('friends called Mary who have worked at Google since 2010'))\n",
    "print(extract_entities('people who graduated from MIT in 1999'))\n",
    "    "
   ]
  },
  {
   "cell_type": "code",
   "execution_count": null,
   "metadata": {},
   "outputs": [],
   "source": []
  }
 ],
 "metadata": {
  "kernelspec": {
   "display_name": "Python 2",
   "language": "python",
   "name": "python2"
  },
  "language_info": {
   "codemirror_mode": {
    "name": "ipython",
    "version": 2
   },
   "file_extension": ".py",
   "mimetype": "text/x-python",
   "name": "python",
   "nbconvert_exporter": "python",
   "pygments_lexer": "ipython2",
   "version": "2.7.15"
  }
 },
 "nbformat": 4,
 "nbformat_minor": 2
}
