{
 "cells": [
  {
   "cell_type": "code",
   "execution_count": 4,
   "metadata": {},
   "outputs": [
    {
     "name": "stdout",
     "output_type": "stream",
     "text": [
      "Fitting 2 folds for each of 6 candidates, totalling 12 fits\n"
     ]
    },
    {
     "name": "stderr",
     "output_type": "stream",
     "text": [
      "[Parallel(n_jobs=1)]: Done  12 out of  12 | elapsed:    0.0s finished\n"
     ]
    }
   ],
   "source": [
    "from rasa_nlu.training_data import load_data\n",
    "from rasa_nlu.model import Trainer\n",
    "from rasa_nlu import config\n",
    "\n",
    "training_data = load_data('./data/training_data.json')\n",
    "trainer = Trainer(config.load(\"./sample_configs/config_spacy.yml\"))\n",
    "trainer.train(training_data)\n",
    "model_directory = trainer.persist('./projects')  # Returns the directory the model is stored in"
   ]
  },
  {
   "cell_type": "code",
   "execution_count": 5,
   "metadata": {},
   "outputs": [],
   "source": [
    "from rasa_nlu.model import Interpreter\n",
    "\n",
    "# where model_directory points to the model folder\n",
    "interpreter = Interpreter.load(model_directory)"
   ]
  },
  {
   "cell_type": "code",
   "execution_count": 6,
   "metadata": {},
   "outputs": [
    {
     "data": {
      "text/plain": [
       "{'intent': {'name': 'restaurant_search', 'confidence': 0.7899178866616785},\n",
       " 'entities': [{'start': 18,\n",
       "   'end': 25,\n",
       "   'value': 'mexican',\n",
       "   'entity': 'cuisine',\n",
       "   'confidence': 0.6753471359512505,\n",
       "   'extractor': 'ner_crf'},\n",
       "  {'start': 44,\n",
       "   'end': 49,\n",
       "   'value': 'north',\n",
       "   'entity': 'location',\n",
       "   'confidence': 0.7883549709929553,\n",
       "   'extractor': 'ner_crf'}],\n",
       " 'intent_ranking': [{'name': 'restaurant_search',\n",
       "   'confidence': 0.7899178866616785},\n",
       "  {'name': 'goodbye', 'confidence': 0.1329798546971805},\n",
       "  {'name': 'affirm', 'confidence': 0.038628670444150026},\n",
       "  {'name': 'greet', 'confidence': 0.038473588196990816}],\n",
       " 'text': \"I'm looking for a Mexican restaurant in the North of town\"}"
      ]
     },
     "execution_count": 6,
     "metadata": {},
     "output_type": "execute_result"
    }
   ],
   "source": [
    "interpreter.parse(u\"I'm looking for a Mexican restaurant in the North of town\")"
   ]
  },
  {
   "cell_type": "code",
   "execution_count": null,
   "metadata": {},
   "outputs": [],
   "source": []
  },
  {
   "cell_type": "code",
   "execution_count": null,
   "metadata": {},
   "outputs": [],
   "source": []
  }
 ],
 "metadata": {
  "kernelspec": {
   "display_name": "Python 3",
   "language": "python",
   "name": "python3"
  },
  "language_info": {
   "codemirror_mode": {
    "name": "ipython",
    "version": 3
   },
   "file_extension": ".py",
   "mimetype": "text/x-python",
   "name": "python",
   "nbconvert_exporter": "python",
   "pygments_lexer": "ipython3",
   "version": "3.6.5"
  }
 },
 "nbformat": 4,
 "nbformat_minor": 2
}
